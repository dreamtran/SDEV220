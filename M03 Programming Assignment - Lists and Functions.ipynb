{
 "cells": [
  {
   "cell_type": "code",
   "execution_count": 1,
   "id": "8d4910e1",
   "metadata": {},
   "outputs": [],
   "source": [
    "# 7.4"
   ]
  },
  {
   "cell_type": "code",
   "execution_count": 2,
   "id": "be717800",
   "metadata": {},
   "outputs": [
    {
     "name": "stdout",
     "output_type": "stream",
     "text": [
      "['mozzarella', 'cinderalla', 'salmonella']\n"
     ]
    }
   ],
   "source": [
    "things = [\"mozzarella\", \"cinderalla\", \"salmonella\"]\n",
    "print(things)"
   ]
  },
  {
   "cell_type": "code",
   "execution_count": 3,
   "id": "4838871b",
   "metadata": {},
   "outputs": [],
   "source": [
    "# 7.5"
   ]
  },
  {
   "cell_type": "code",
   "execution_count": 7,
   "id": "e43b4ad1",
   "metadata": {},
   "outputs": [
    {
     "name": "stdout",
     "output_type": "stream",
     "text": [
      "['mozzarella', 'Cinderalla', 'salmonella']\n"
     ]
    }
   ],
   "source": [
    "things[1] = things[1].capitalize()\n",
    "print(things)"
   ]
  },
  {
   "cell_type": "code",
   "execution_count": null,
   "id": "83ee12f5",
   "metadata": {},
   "outputs": [],
   "source": [
    "# It changed the element in the list."
   ]
  },
  {
   "cell_type": "code",
   "execution_count": 8,
   "id": "ef347639",
   "metadata": {},
   "outputs": [],
   "source": [
    "# 7.6"
   ]
  },
  {
   "cell_type": "code",
   "execution_count": 10,
   "id": "7ba4928e",
   "metadata": {},
   "outputs": [
    {
     "name": "stdout",
     "output_type": "stream",
     "text": [
      "['MOZZARELLA', 'Cinderalla', 'salmonella']\n"
     ]
    }
   ],
   "source": [
    "things[0] = things[0].upper()\n",
    "print(things)"
   ]
  },
  {
   "cell_type": "code",
   "execution_count": 11,
   "id": "a8d5a3b0",
   "metadata": {},
   "outputs": [],
   "source": [
    "# 7.7"
   ]
  },
  {
   "cell_type": "code",
   "execution_count": 13,
   "id": "86681248",
   "metadata": {},
   "outputs": [
    {
     "name": "stdout",
     "output_type": "stream",
     "text": [
      "['MOZZARELLA', 'Cinderalla', 'Nobel Prize']\n"
     ]
    }
   ],
   "source": [
    "things.pop(2)\n",
    "things.append(\"Nobel Prize\")\n",
    "print(things)"
   ]
  },
  {
   "cell_type": "code",
   "execution_count": null,
   "id": "6f89b746",
   "metadata": {},
   "outputs": [],
   "source": []
  },
  {
   "cell_type": "code",
   "execution_count": 14,
   "id": "51026556",
   "metadata": {},
   "outputs": [],
   "source": [
    "# 9.1"
   ]
  },
  {
   "cell_type": "code",
   "execution_count": 18,
   "id": "11af9930",
   "metadata": {},
   "outputs": [
    {
     "data": {
      "text/plain": [
       "['Harry', 'Ron', 'Hermione']"
      ]
     },
     "execution_count": 18,
     "metadata": {},
     "output_type": "execute_result"
    }
   ],
   "source": [
    "def good():\n",
    "    list = [\"Harry\", \"Ron\", \"Hermione\"]\n",
    "    return list\n",
    "good()"
   ]
  },
  {
   "cell_type": "code",
   "execution_count": null,
   "id": "c5faa3a9",
   "metadata": {},
   "outputs": [],
   "source": [
    "# 9.2"
   ]
  },
  {
   "cell_type": "code",
   "execution_count": 33,
   "id": "2570065e",
   "metadata": {},
   "outputs": [],
   "source": [
    "def get_odds():\n",
    "    odds =[]\n",
    "    for i in range(10):\n",
    "        if i % 2 != 0:\n",
    "            odds.append(i)\n",
    "    return odds"
   ]
  },
  {
   "cell_type": "code",
   "execution_count": 34,
   "id": "2b21e182",
   "metadata": {},
   "outputs": [
    {
     "data": {
      "text/plain": [
       "[1, 3, 5, 7, 9]"
      ]
     },
     "execution_count": 34,
     "metadata": {},
     "output_type": "execute_result"
    }
   ],
   "source": [
    "get_odds()"
   ]
  },
  {
   "cell_type": "code",
   "execution_count": 32,
   "id": "1dd385fe",
   "metadata": {},
   "outputs": [
    {
     "name": "stdout",
     "output_type": "stream",
     "text": [
      "Third value: 5\n"
     ]
    }
   ],
   "source": [
    "count = 0\n",
    "for odd in get_odds():\n",
    "    count += 1\n",
    "    if count == 3:\n",
    "        print(\"Third value:\", odd)\n",
    "        break"
   ]
  },
  {
   "cell_type": "code",
   "execution_count": null,
   "id": "b00a087c",
   "metadata": {},
   "outputs": [],
   "source": []
  },
  {
   "cell_type": "code",
   "execution_count": null,
   "id": "67c9de21",
   "metadata": {},
   "outputs": [],
   "source": []
  }
 ],
 "metadata": {
  "kernelspec": {
   "display_name": "Python 3 (ipykernel)",
   "language": "python",
   "name": "python3"
  },
  "language_info": {
   "codemirror_mode": {
    "name": "ipython",
    "version": 3
   },
   "file_extension": ".py",
   "mimetype": "text/x-python",
   "name": "python",
   "nbconvert_exporter": "python",
   "pygments_lexer": "ipython3",
   "version": "3.10.9"
  }
 },
 "nbformat": 4,
 "nbformat_minor": 5
}
